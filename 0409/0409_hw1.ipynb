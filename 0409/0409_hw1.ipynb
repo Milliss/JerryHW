{
 "cells": [
  {
   "cell_type": "code",
   "execution_count": 1,
   "metadata": {},
   "outputs": [],
   "source": [
    "class Restaurant():\n",
    "    def describe_restaurant(self):\n",
    "        print(\"顯示餐廳名稱:Mille's restaurant\")\n",
    "        print(\"烹飪方式:加一些米粒、少許橄欖油、十分之一茶匙的鹽，以大火烹調三十分鐘後悶煮十分鐘。\")"
   ]
  },
  {
   "cell_type": "code",
   "execution_count": 2,
   "metadata": {},
   "outputs": [],
   "source": [
    "class IceCreamStand(Restaurant):\n",
    "    def show_flavors(self):\n",
    "        flavors=['草莓','蘋果','榴槤','香蕉','水蜜桃']\n",
    "        print('我喜歡的口味，像是：')\n",
    "        for i in flavors:\n",
    "            print(i)"
   ]
  },
  {
   "cell_type": "code",
   "execution_count": 3,
   "metadata": {},
   "outputs": [],
   "source": [
    "x=Restaurant()"
   ]
  },
  {
   "cell_type": "code",
   "execution_count": 4,
   "metadata": {},
   "outputs": [],
   "source": [
    "x2=IceCreamStand()"
   ]
  },
  {
   "cell_type": "code",
   "execution_count": 5,
   "metadata": {},
   "outputs": [
    {
     "name": "stdout",
     "output_type": "stream",
     "text": [
      "顯示餐廳名稱:Mille's restaurant\n",
      "烹飪方式:加一些米粒、少許橄欖油、十分之一茶匙的鹽，以大火烹調三十分鐘後悶煮十分鐘。\n"
     ]
    }
   ],
   "source": [
    "x.describe_restaurant()"
   ]
  },
  {
   "cell_type": "code",
   "execution_count": 6,
   "metadata": {},
   "outputs": [
    {
     "name": "stdout",
     "output_type": "stream",
     "text": [
      "我喜歡的口味，像是：\n",
      "草莓\n",
      "蘋果\n",
      "榴槤\n",
      "香蕉\n",
      "水蜜桃\n"
     ]
    }
   ],
   "source": [
    "x2.show_flavors()"
   ]
  },
  {
   "cell_type": "code",
   "execution_count": null,
   "metadata": {},
   "outputs": [],
   "source": []
  }
 ],
 "metadata": {
  "kernelspec": {
   "display_name": "Python 3",
   "language": "python",
   "name": "python3"
  },
  "language_info": {
   "codemirror_mode": {
    "name": "ipython",
    "version": 3
   },
   "file_extension": ".py",
   "mimetype": "text/x-python",
   "name": "python",
   "nbconvert_exporter": "python",
   "pygments_lexer": "ipython3",
   "version": "3.6.4"
  }
 },
 "nbformat": 4,
 "nbformat_minor": 2
}
