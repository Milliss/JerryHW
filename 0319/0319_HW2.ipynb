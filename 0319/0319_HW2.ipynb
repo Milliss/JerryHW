{
 "cells": [
  {
   "cell_type": "code",
   "execution_count": 3,
   "metadata": {},
   "outputs": [],
   "source": [
    "lucky_num=8"
   ]
  },
  {
   "cell_type": "code",
   "execution_count": 9,
   "metadata": {},
   "outputs": [
    {
     "name": "stdout",
     "output_type": "stream",
     "text": [
      "猜猜數字?[按q取消]:1\n",
      "你猜不到啦\n",
      "猜猜數字?[按q取消]:2\n",
      "你猜不到啦\n",
      "猜猜數字?[按q取消]:3\n",
      "你猜不到啦\n",
      "猜猜數字?[按q取消]:6\n",
      "你猜不到啦\n",
      "猜猜數字?[按q取消]:7\n",
      "你猜不到啦\n",
      "猜猜數字?[按q取消]:8\n",
      "猜到ㄌㄛ BANG!\n"
     ]
    }
   ],
   "source": [
    "while True:\n",
    "    num=input(\"猜猜數字?[按q取消]:\")\n",
    "    if num=='q':\n",
    "        break\n",
    "    elif num=='8':\n",
    "        print(\"猜到ㄌㄛ BANG!\")\n",
    "        break\n",
    "    else:\n",
    "        print(\"你猜不到啦\")\n",
    "    "
   ]
  },
  {
   "cell_type": "code",
   "execution_count": null,
   "metadata": {},
   "outputs": [],
   "source": []
  }
 ],
 "metadata": {
  "kernelspec": {
   "display_name": "Python 3",
   "language": "python",
   "name": "python3"
  },
  "language_info": {
   "codemirror_mode": {
    "name": "ipython",
    "version": 3
   },
   "file_extension": ".py",
   "mimetype": "text/x-python",
   "name": "python",
   "nbconvert_exporter": "python",
   "pygments_lexer": "ipython3",
   "version": "3.6.4"
  }
 },
 "nbformat": 4,
 "nbformat_minor": 2
}
